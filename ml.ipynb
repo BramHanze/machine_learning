{
 "cells": [
  {
   "cell_type": "code",
   "execution_count": 1,
   "metadata": {},
   "outputs": [],
   "source": [
    "from matplotlib import pyplot as plt\n",
    "import numpy as np\n",
    "import pandas as pd\n",
    "import seaborn as sns"
   ]
  },
  {
   "cell_type": "code",
   "execution_count": 18,
   "metadata": {},
   "outputs": [
    {
     "data": {
      "text/plain": [
       "array([(0, 69, 1, 2, 2, 1, 1, 2, 1, 2, 2, 2, 2, 2, 2, 1),\n",
       "       (0, 74, 2, 1, 1, 1, 2, 2, 2, 1, 1, 1, 2, 2, 2, 1),\n",
       "       (1, 59, 1, 1, 1, 2, 1, 2, 1, 2, 1, 2, 2, 1, 2, 2), ...,\n",
       "       (1, 38, 2, 1, 2, 1, 1, 1, 2, 2, 1, 1, 2, 1, 2, 1),\n",
       "       (0, 26, 2, 2, 1, 1, 1, 1, 2, 1, 2, 1, 1, 1, 1, 2),\n",
       "       (0, 61, 2, 2, 2, 2, 2, 2, 1, 1, 2, 1, 2, 1, 1, 2)],\n",
       "      dtype=[('GENDER', '<i8'), ('AGE', '<i8'), ('SMOKING', '<i8'), ('YELLOW_FINGERS', '<i8'), ('ANXIETY', '<i8'), ('PEER_PRESSURE', '<i8'), ('CHRONIC_DISEASE', '<i8'), ('FATIGUE', '<i8'), ('ALLERGY', '<i8'), ('WHEEZING', '<i8'), ('ALCOHOL_CONSUMING', '<i8'), ('COUGHING', '<i8'), ('SHORTNESS_OF_BREATH', '<i8'), ('SWALLOWING_DIFFICULTY', '<i8'), ('CHEST_PAIN', '<i8'), ('LUNG_CANCER', '<i8')])"
      ]
     },
     "execution_count": 18,
     "metadata": {},
     "output_type": "execute_result"
    }
   ],
   "source": [
    "from numpy import genfromtxt\n",
    "lungdata = np.genfromtxt('survey lung cancer.csv', delimiter=',', names=True, dtype=None)\n",
    "lungdata\n"
   ]
  }
 ],
 "metadata": {
  "kernelspec": {
   "display_name": "Python 3",
   "language": "python",
   "name": "python3"
  },
  "language_info": {
   "codemirror_mode": {
    "name": "ipython",
    "version": 3
   },
   "file_extension": ".py",
   "mimetype": "text/x-python",
   "name": "python",
   "nbconvert_exporter": "python",
   "pygments_lexer": "ipython3",
   "version": "3.11.2"
  }
 },
 "nbformat": 4,
 "nbformat_minor": 2
}
